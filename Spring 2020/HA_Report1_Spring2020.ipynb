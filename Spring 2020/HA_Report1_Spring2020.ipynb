{
  "nbformat": 4,
  "nbformat_minor": 0,
  "metadata": {
    "colab": {
      "name": "HA_Report_1_Spring2020.ipynb",
      "provenance": [],
      "collapsed_sections": [
        "HCNXi5uiDFsw"
      ],
      "include_colab_link": true
    },
    "kernelspec": {
      "name": "python3",
      "display_name": "Python 3"
    }
  },
  "cells": [
    {
      "cell_type": "markdown",
      "metadata": {
        "id": "view-in-github",
        "colab_type": "text"
      },
      "source": [
        "<a href=\"https://colab.research.google.com/github/AguaClara/humic_acid/blob/master/HA_Report_1_Spring2020.ipynb\" target=\"_parent\"><img src=\"https://colab.research.google.com/assets/colab-badge.svg\" alt=\"Open In Colab\"/></a>"
      ]
    },
    {
      "cell_type": "markdown",
      "metadata": {
        "id": "TLAmaRBfCmiy",
        "colab_type": "text"
      },
      "source": [
        "# Humic Acid Removal, Spring 2020\n",
        "#### Thomas Bradford, Bridget Childs, Matthew Lee, Carolyn Wang\n",
        "#### 6 March 2020"
      ]
    },
    {
      "cell_type": "markdown",
      "metadata": {
        "id": "BfeU4k7OCphn",
        "colab_type": "text"
      },
      "source": [
        "## Abstract\n",
        "The Spring 2020 Humic Acid Removal subteam aims to determine the optimal coagulant dosage to remove humic acid in influents with low turbidity.  The humic acid removal efficiency of varying coagulant concentrations will be measured in experiments with a fixed run time, water flow rate, and concentration of humic acid. The AccuView spectrophotometer will be used to measure effluent absorbance, which will correlate with present humic acid concentration. The team has not had conclusive results yet."
      ]
    },
    {
      "cell_type": "markdown",
      "metadata": {
        "id": "EqtwU-gRCrj9",
        "colab_type": "text"
      },
      "source": [
        "## Introduction\n",
        "\n",
        "The subteam’s goal is to develop methods to remove harmful Natural Organic Matter (NOM) from influent water in an AguaClara plant. \n",
        "\n",
        "NOM exists in both ground and surface water. It is dipolar and can serve as a nutrient for bacteria, viruses, and pathogens. Additionally, NOM can produce carcinogenic byproducts during chlorination.The subteam will be using humic acid (HA) as a representative substance for NOM.  Humic acid reacts with chlorine to form chloroform, which is harmful to humans (Kopfler, F et al.).To minimize risk, it is imperative to remove NOM from water. However, there is not a robust model predicting how NOM behaves in water. Consequently, there are no effective treatment methods for NOM-water removal. Limited knowledge in this area affects drinking water treatment significantly. Many researchers believe the negative effects of NOM in water might call for a need to increase coagulant doses. The cost of coagulant and its potential negative effects in excess set a maximum limit for the dose that can be added during the water treatment process. One such negative effect is that too much coagulant prevents flocculation. \n",
        "\n",
        "At the AguaClara plant in Gracias, Honduras, influent water contains an unusually high concentration of dissolved NOM (specifically HA) while containing relatively little clay. This composition has presented issues. Generally, suspended clay particles in influent water serve as catalysts for flocs to form, allowing NOM to coagulate and leave solution. With little clay in the influent water, floc formation is slower and less probable, making it difficult to encourage flocculation of dissolved NOM. In the past, this subteam’s goal was to determine whether increasing the dosage of coagulant (specifically PACl) would facilitate better flocculation of NOM. In the Fall 2019 semester, this subteam demonstrated that it is possible to use PACl to encourage flocculation of dissolved HA. \n",
        "\n",
        "For the Spring 2020 semester, the subteam aims to determine the optimal PACl dosage to maximize the removal of HA from water. The subteam will also consider that in order to remove dissolved HA it may be necessary to add some dosage of clay particles in order to catalyze floc growth. The subteam hopes to make meaningful progress towards developing a reliable method for HA removal, and towards applying this method to the general removal of NOM. \n"
      ]
    },
    {
      "cell_type": "markdown",
      "metadata": {
        "id": "FLDOXtNqCtAW",
        "colab_type": "text"
      },
      "source": [
        "## Literature Review \n",
        "NOM negatively affects water quality in several ways. It causes discoloration, taste and odor problems, increased absorption of organic pollutants, and biological growth in distribution systems. This consequently causes an increase in sludge volumes. Matilainen et al. (2010) suggests that optimized coagulation is the major treatment option in decreasing NOM level. There are complications to this theory, however. NOM’s nature has significant effects on the removal efficiency of coagulation. The hydrophobic portion of NOM is generally removed more effectively with coagulation than the hydrophilic portion is. Generally, the removal efficiency of NOM depends on several factors such as pH, temperature and coagulant type.\n",
        "\n",
        "According to Zhang et al. (2008), polyaluminum chlorides (PACl) are some of the most effective and efficient coagulants in water treatment. They are largely used in place of traditional aluminous coagulants due to their high efficiency at low dosages, low cost, and convenient usage.\n",
        "\n",
        "Regarding NOM removal efficiency, Soh et al.(2008) isolated dissolved NOM into four organic fractions based on hydrophobic and hydrophilic properties: very hydrophobic acids, slightly hydrophobic acids, charged hydrophilics, and neutral hydrophilics. His experiment was designed to determine the impact of alum coagulation on removal of these fractions in conventional water treatment. He found that the alum removed mostly hydrophobic and higher molecular weight components of NOM. This result further verified that the NOM removal efficiency is correlated with the properties of NOM. His study also revealed that, even though alum coagulation removed a large proportion of NOM, a significant amount of the NOM resisted coagulation as well. This implies that NOM removal will not improve significantly at very high coagulant dosage.\n",
        "\n",
        "Because of the aforementioned factors, such as pH, that influence NOM removal efficiency, the subteam needed to design well-controlled experiments to avoid unexpected variables affecting experimental results. The studies that have been conducted in related fields provided inspiration for experiments the subteam will conduct this semester, such as exploring the optimal coagulant dosage (the dosage which yields the lowest effluent turbidity) at certain HA concentrations. Previous research focused on the general effect of coagulation on HA and the subcomponents of NOM, but there have been no comprehensive studies conducted on optimal dosages. Therefore, the subteam’s experiments will focus on the optimal dosage of coagulant and floc blanket formation of humic acid and coagulant without the addition of clay.\n",
        "\n",
        "Additional research relevant to the current Humic Acid Removal subteam was conducted by Yingda Du (2017), a former graduate student at Cornell. Du was the first to experiment with how effluent turbidity is affected by a combination of coagulant concentration and HA concentration. Her thesis paper investigates the effects NOM has on flocculation. Particle size distribution of flocs and effluent turbidity are the two major criteria for determining the effectiveness of flocculation. These two parameters are affected by the concentration of NOM in the system. In order to model this system, HA serves as the surrogate for NOM. Du hypothesized that variation in HA concentration affects floc size distribution and effluent turbidity. In her thesis, she modeled the effects of humic acid in high turbidity water on flocculation. For influent turbidity at 50 NTU with coagulant dosage ranging from 0.53 mg/L to 2.65 mg/L and HA concentration ranging from 0 mg/L to 15 mg/L, a series of her experiments indicate that the coagulant dosage is positively correlated with turbidity reduction, and that the presence of HA greatly increases the effluent turbidity. \n",
        "\n",
        "Another finding from Du's report is that the presence of HA increases the frequency of relatively small flocs after flocculation, as opposed to relatively large ones. As HA coats coagulant nanoparticles, the attachment efficiency of collisions decreases. Thus, HA can change the particle size distribution of the precipitated solids, inhibiting formation of larger particles. This result supports the idea that the presence of HA particles in influent water diminishes the performance of flocculation/sedimentation processes. The subteam aims to counteract these detrimental effects by removing HA from the influent water. "
      ]
    },
    {
      "cell_type": "markdown",
      "metadata": {
        "id": "HkGJPsTDtH6n",
        "colab_type": "text"
      },
      "source": [
        "## Previous Work\n",
        "The Humic Acid Removal subteam was established in Fall 2017. In that semester, the subteam tested the optimal coagulant dosage at 5 mg/L humic acid influent concentration and obtained 1.6 mg/L as the optimal coagulant dosage. \n",
        "The Spring 2018 Humic Acid subteam verified the previous semester's result and tested optimal coagulant dosages for 5m/L and 10 mg/L HA concentrations. As the HA concentration increases, the optimal coagulant dosage drops down slightly. However, the team cannot conclude that the increasing of HA concentration will decrease the optimal coagulant dosage, as a wider range of HA concentrations should be tested. In addition, the team found that for one trial, the head loss through the flocculator accumulates with time. This phenomenon might explain why the effluent turbidity rises up again after the experiment reaches steady state.\n",
        "The Fall 2018 subteam introduced the spectrophotometer into the experimental apparatus. This was done in order to investigate the applicability of UV-spectroscopy in quantifying the concentration of humic acid in water streams. The team ran several tests with HA solutions of 5 mg/L, 10 mg/L, and 15 mg/L through the 1600 UV spectrophotometer in the design lab at 254 nm. Results from this test showed that there is a linear relationship between absorbance and HA concentration. This result proved that HA solution obeyed Beer's Law, and spectroscopy could be used to determine humic acid concentration. The subteam then ran HA solutions through the AccuView spectrophotometer and plotted absorbance curve. The final iteration of this experiment was conducted with clay.\n",
        "Clay mixtures were run through the turbidity meter and spectrophotometer. Results showed that the turbidity and absorbance of clay were related linearly. The team obtained the relationship,\n",
        "\n",
        "> #### $𝑦=0.0199𝑥+0.0554$ ####\n",
        "\n",
        "where y is the absorbance and x is the turbidity of clay. This equation implies by measuring the effluent turbidity of a clay sample, the absorbance of clay can be calculated using the equation above. Fall 2018's work in using absorbance gives future teams data for future spectroscopy work.\n",
        "The Spring 2019 subteam developed a mathematical model that related the concentration of clay and humic acid to the stream’s absorbance and turbidity. The following model,\n",
        "\n",
        "\n",
        "\n",
        "> #### $[𝐻𝐴]+[𝐶𝑙𝑎𝑦]=0.00103𝑥+0.4280$ ####\n",
        "\n",
        "\n",
        "where x is the measured turbidity, could be used to evaluate the effectiveness and efficiency of the AguaClara plants in removing HA from water. The team determined that HA and clay streams did not have additive absorbances, so the observed absorbance was not equivalent to the projected combined absorbance of the two streams. While the team expected the absorbance to decrease with increasing clay concentration, because of the clay’s ability to coagulate humic acid particles, the results indicated that the observed absorbance was actually greater than the projected absorbance. \n",
        "\n",
        "The Fall 2019 Humic Acid subteam investigated the efficiency of HA removal at higher concentrations of both HA and coagulant. Concentration of HA was raised up to 25mg/L and that of coagulant was raised to 3.8mg/L. The experiments showed that without clay present, flocs can still form in the sedimentation tank after a minimum of two hours runtime. Additionally, there were no threshold found for a decrease in efficiency of HA removal, as absorbance continues to lower as concentrations increase."
      ]
    },
    {
      "cell_type": "markdown",
      "metadata": {
        "id": "A9c0Dr8rCujT",
        "colab_type": "text"
      },
      "source": [
        "## Methods\n"
      ]
    },
    {
      "cell_type": "markdown",
      "metadata": {
        "id": "P1KPU32VCw94",
        "colab_type": "text"
      },
      "source": [
        "### Experimental Apparatus \n",
        "To standardize with setup of other particle-removal subteams, 1-inch clear PVC pipes were chosen and fabricated so that the experimental apparatus has a 50 cm recirculator and 35 cm tube settler. The floc wire is 40 cm and the bent angle of the tube settler is angled 60 degrees relative to the horizontal. The length of the tube settler was determined so that a capture velocity of  0.308 mm/s would be produced at the end of the reactor. The design is obtained from the High Rate Sedimentation subteam. \n",
        " \n",
        "The HA flow and water flow are combined after leaving the pumps, and goes through the effluent turbidimeter to determine an initial turbidity. After leaving the turbidimeter, coagulant is added to the flow and enters the flocculator. Then the flow goes into the sedimentation tank where flocs are formed, and separated into two directions: the clean water goes through the top part of the sedimentation tank and pumped into the spectrophotometer, effluent turbidimeter and lastly exits the system through the wastewater pipe; the flocs are settled and directly leaves the sedimentation tank and into the wastewater flow.\n",
        "\n",
        "The schematic and photo below illustrate this setup.\n",
        "\n",
        "<p align=\"center\">\n",
        "\n",
        "![Apparatus Flow Schematic](https://github.com/AguaClara/humic_acid/blob/master/Spring%202020/Figures/Report%2001%20_%20Schematic,%20Combined%20(1).jpg?raw=true)\n",
        "\n",
        "</p>\n",
        "\n",
        "**Figure 1**: The above image is a flow diagram of the subteam's current setup, as described in the prior paragraphs. \n",
        "\n",
        "<p align=\"center\">\n",
        "\n",
        "![Apparatus Photo](https://github.com/AguaClara/humic_acid/blob/master/Spring%202020/Figures/Report%2001%20Combined%20figure.jpg?raw=true)\n",
        "\n",
        "</p>\n",
        "\n",
        "**Figure 2**: The above images show a photograph of the subteam's current setup (left) beside a copy of the image with labeled process units (right).\n",
        "\n"
      ]
    },
    {
      "cell_type": "markdown",
      "metadata": {
        "id": "GRanvGR38Hgr",
        "colab_type": "text"
      },
      "source": [
        "### Fabrication Details\n",
        "To standardize with setup of other particle-removal subteams, 1-inch clear PVC pipes were chosen and fabricated so that the experimental apparatus has a 50 cm recirculator and 35 cm tube settler. The floc wire is 40 cm and the bent angle of the tube settler is angled 60 degrees relative to the horizontal. The length of the tube settler was determined so that a capture velocity of  0.308 mm/s would be produced at the end of the reactor. The design is obtained from the High Rate Sedimentation subteam. \n",
        " \n",
        "The HA flow and water flow are combined after leaving the pumps, and goes through the effluent turbidimeter to determine an initial turbidity. After leaving the turbidimeter, coagulant is added to the flow and enters the flocculator. Then the flow goes into the sedimentation tank where flocs are formed, and separated into two directions: the clean water goes through the top part of the sedimentation tank and pumped into the spectrophotometer, effluent turbidimeter and lastly exits the system through the wastewater pipe; the flocs are settled and directly leaves the sedimentation tank and into the wastewater flow. \n"
      ]
    },
    {
      "cell_type": "markdown",
      "metadata": {
        "id": "eE2U0PV27H6F",
        "colab_type": "text"
      },
      "source": [
        "### Material List: \n",
        "\n",
        "\n",
        "1.   4 pumps (coagulant, HA, effluent water, influent water)\n",
        "2.   Sedimentation Tank\n",
        "3.   2 Turbidimeters\n",
        "4.   Spectrophotometer\n",
        "5.   Micro-tubing & 1/4\" tubing\n",
        "6.   HA Stock Solution\n",
        "7.   Coagulant Stock Solution\n",
        "\n"
      ]
    },
    {
      "cell_type": "markdown",
      "metadata": {
        "id": "8Jz_Fwaa8hfU",
        "colab_type": "text"
      },
      "source": [
        "### Experimental Parameters\n",
        "As stated previously the experiment’s  independent variable is coagulant concentration. Table 2 shows the PACl concentrations for the experiments this semester. The table also includes the corresponding pump speeds to achieve these concentrations. The dependent variable, the variable being tested for, is humic acid removal efficiency. Mathematical models will be used to convert the effluent turbidity reading to the concentration of humic acid exiting the sedimentation tank. Table 1 shows the fixed values for the experiments calculated from the Collab Method File. This file can be found in the report’s “Python Code” section. It is important to note that when entering into the pump speed into ProCoDA the pump speed should be converted to revolutions per second multiplied by the ProCoDA coefficient. For this ProCoDA method file, the coefficient is 2. Experiments will be run until a steady state absorbance reading is achieved. \n",
        "#### Parameter Values\n",
        "> Table #1 Fixed Values for current experiment\n",
        "\n",
        "  | Parameters                  |           Value             |\n",
        "  |-----------------:----------:|:---------------------------:|\n",
        "  |HA Concentration: Stock      |         0.25 g/L            |\n",
        "  |HA Concentration: Circulator |         0.05 g/L            |\n",
        "  |   HA Pump Speed             |           40.85 rpm         |\n",
        "  |PACl Concentration: Stock    |           0.5 g/L           |\n",
        "  |   Influent Water Pump       |          8.652 pm           |\n",
        "  |   Effluent Water Pump       | 8.4 rpm(value must be smaller than Influent water pump)     |\n",
        "  \n",
        "\n",
        ">Table #2 Concentration of PACl (all values derived from python code using PACl stock concentration of 0.5 g/L)\n",
        "\n",
        "|    Concentrations of PACl     | Speed of Coagulant Pump     |\n",
        "|:-------------:-------------- :|:--------------:------------:|\n",
        "|1.5                            |    0.6128                   |\n",
        "|2|0.817|\n",
        "|2.5|1.021|\n",
        "|3|1.226|\n",
        "|3.5|1.226|\n",
        "\n",
        ">"
      ]
    },
    {
      "cell_type": "markdown",
      "metadata": {
        "id": "OH4T3NMQDE84",
        "colab_type": "text"
      },
      "source": [
        "## Experimental Procedures\n",
        "### Set-up\n",
        "\n",
        "Step 1.\n",
        "* Flush the system at high pump speed with distilled water\n",
        "* Empty out system\n",
        "\n",
        "Step 2.\n",
        "* Determine stock concentration\n",
        "* Fill both stock buckets \n",
        "* Determine pump speed from python code \n",
        "* Input pump speed into procoda \n",
        "  - pump speed in procoda =(pump speed from python script)/60*2\n",
        "\n",
        "Step 3.\n",
        "* Set desired runtime\n",
        "* Run experiment by toggling to \"experimental run\" \n",
        "* Check pump speed displayed on pumps \n",
        "* Record data using Procoda \n",
        "\n"
      ]
    },
    {
      "cell_type": "markdown",
      "metadata": {
        "id": "p2XW1-32z5gR",
        "colab_type": "text"
      },
      "source": [
        "#### Troubleshooting\n",
        "Our subteam has done a lot of troubleshooting at this point of the semester. So far, we’ve had the greatest difficulty having ProCoDA communicate with all 4 of our pumps. Coming into this semester, we knew we needed to add a pump to control the effluent flows and to get our effluent turbidimeter responding. Additionally, Monroe fixed our previously broken spectrophotometer. Our first hurdle was getting  ProCoDA to talk to more than 2 pumps at a time. ProCoDA would talk to any two pumps together, but not when a third or fourth pump was added to the system. After a great deal of trouble shooting we realized that the problem was with the port we were using. The problem was fixed by adding a USB converter and downloading the appropriate software. This problem seems to have fixed itself; however, since then we have been able to use the original port. The system was fixed long enough to get initial data provided below; however, our big problem recently is that the HA pump has started moving sporadically. We are working on this issue currently for future experiments. \n"
      ]
    },
    {
      "cell_type": "markdown",
      "metadata": {
        "id": "TPiP9gijC3GV",
        "colab_type": "text"
      },
      "source": [
        "## Preliminary Results\n",
        "One experiment to test the viability of our experimental apparatus was run on 2/26.  A stock HA solution of 0.25 g/L was created and pumped into the system.  The system was then left running overnight, with ProCoDa recording the turbidity and absorbance readings.  The system reached a steady state at around 5:00 P.M. with approximately 17.5 NTU effluent turbidity, 16 NTU influent turbidity, and 2 absorbance.  See Figure 3 and 4 below for NTU and absorbance data, respectively.\n",
        "\n",
        "From the drop in turbidity and absorbance values, the system ran out of humic acid solution at approximately 3:00 AM the next morning.  To prevent this issue from recurring, the team will work on setting a time setting in ProCoDa to halt the experiment.  Another issue that will be worked on is troubleshooting the spectrophotometer, as the absorbance readings at steady state went above 1, maxing out at 2.\n",
        "\n",
        "<p align=\"center\">\n",
        "\n",
        "![Figure 3: Turbidity data, Preliminary Experiment 1.](https://github.com/AguaClara/humic_acid/blob/master/Spring%202020/Figures/2-26-turbidity.jpg?raw=true)\n",
        "\n",
        "</p>\n",
        "\n",
        "**Figure 3**: The above graphs illustrates the turbidity data from Preliminary Experiment 1.\n",
        "\n",
        "<p align=\"center\">\n",
        "\n",
        "![Figure 4: Preliminary experiment 1, absorbance data.](https://github.com/AguaClara/humic_acid/blob/master/Spring%202020/Figures/2-26-UV.jpg?raw=true)\n",
        "\n",
        "</p>\n",
        "\n",
        "**Figure 4**: The above graph illustrates the absorbance data from Preliminary Experiment 1. "
      ]
    },
    {
      "cell_type": "markdown",
      "metadata": {
        "id": "4m-fx7GnC6a-",
        "colab_type": "text"
      },
      "source": [
        "## Conclusions & Future Work\n",
        "\n",
        "As described previously, there are multiple ongoing hardware and software issues.  The team’s primary goal in the near future is to resolve these issues.  Once resolved, the team will start conducting experiments to test how floc generation rate varies with coagulant dosage in water influents with minimal clay.  The results of these experiments will help plants like those in Gracias, Hondurus, where the current flocculation-sedimentation method is ineffiecient in the treatment of high NOM, low clay water.  Long term, future research into the optimal dose of PAC1 coagulant that maximizes floc formation in these conditions while maximizing HA removal would be beneficial in the treatment of NOM-dissolved water."
      ]
    },
    {
      "cell_type": "markdown",
      "metadata": {
        "id": "fZyCYDraC80B",
        "colab_type": "text"
      },
      "source": [
        "## Bibliography\n",
        "Logan, B. E., Hermanowicz, S. W., & Parker,A. S. (1987). A Fundamental Model for Trickling Filter Process Design. Journal (Water Pollution Control Federation), 59(12), 1029–1042.\n",
        "\n",
        "Matilaninen, A, Vepsalainen, M & Sillanpaa, M. (2010). Natural Organic Matter Removal by Coagulation during Drinking Water Treatment. Adv Colloid Interface Sci.\n",
        "\n",
        "Soh, YC, Roddick, F & Van Leeuwen, J. (2008). The Impact of Alum Coagulation on the Character, Biodegradability and Disinfection By-product Formation Potential of Reservoir Natural Organic Matter (NOM) Fractions. Water Sci Technol. 58(6), 1173-9.\n",
        "\n",
        "Kopfler, F., H. Ringhand, W. Coleman, AND J. Meier. REACTIONS OF CHLORINE IN DRINKING WATER, WITH HUMIC ACIDS AND 'IN VIVO'. U.S. Environmental Protection Agency, Washington, D.C., EPA/600/D-84/196 (NTIS PB85160737).\n",
        "\n",
        "Du, Y. (2017). Observations and a Geometric Explanation of the Effects of Humic Acid on Flocculation."
      ]
    },
    {
      "cell_type": "markdown",
      "metadata": {
        "id": "cNK5GnhVpb74",
        "colab_type": "text"
      },
      "source": [
        "## ProCoDA Method File\n",
        "\n",
        "The subteam's current ProCoDA method file used to run experiments is in the GitHub repository, linked [here](https://github.com/AguaClara/humic_acid/blob/master/Spring%202020/method%20%202-21-20.pcm). \n",
        "\n",
        "In future reports, the method file's states and set points will be detailed. "
      ]
    },
    {
      "cell_type": "markdown",
      "metadata": {
        "id": "HCNXi5uiDFsw",
        "colab_type": "text"
      },
      "source": [
        "## Python Code"
      ]
    },
    {
      "cell_type": "markdown",
      "metadata": {
        "id": "v9Y-VwvNmoNX",
        "colab_type": "text"
      },
      "source": [
        ""
      ]
    },
    {
      "cell_type": "code",
      "metadata": {
        "id": "CsiQ1OupEI4P",
        "colab_type": "code",
        "outputId": "052d7280-cc46-4bc3-c210-404310432a25",
        "colab": {
          "base_uri": "https://localhost:8080/",
          "height": 260
        }
      },
      "source": [
        "!pip install aguaclara\n",
        "import aguaclara as ac\n",
        "from aguaclara.core.units import u\n",
        "import matplotlib.pyplot as plt\n",
        "import numpy as np"
      ],
      "execution_count": 0,
      "outputs": [
        {
          "output_type": "stream",
          "text": [
            "Requirement already satisfied: aguaclara in /usr/local/lib/python3.6/dist-packages (0.2.0)\n",
            "Requirement already satisfied: scipy in /usr/local/lib/python3.6/dist-packages (from aguaclara) (1.4.1)\n",
            "Requirement already satisfied: matplotlib in /usr/local/lib/python3.6/dist-packages (from aguaclara) (3.1.3)\n",
            "Requirement already satisfied: urllib3 in /usr/local/lib/python3.6/dist-packages (from aguaclara) (1.24.3)\n",
            "Requirement already satisfied: pandas in /usr/local/lib/python3.6/dist-packages (from aguaclara) (0.25.3)\n",
            "Requirement already satisfied: pint==0.8.1 in /usr/local/lib/python3.6/dist-packages (from aguaclara) (0.8.1)\n",
            "Requirement already satisfied: numpy>=1.13.3 in /usr/local/lib/python3.6/dist-packages (from scipy->aguaclara) (1.17.5)\n",
            "Requirement already satisfied: python-dateutil>=2.1 in /usr/local/lib/python3.6/dist-packages (from matplotlib->aguaclara) (2.8.1)\n",
            "Requirement already satisfied: kiwisolver>=1.0.1 in /usr/local/lib/python3.6/dist-packages (from matplotlib->aguaclara) (1.1.0)\n",
            "Requirement already satisfied: pyparsing!=2.0.4,!=2.1.2,!=2.1.6,>=2.0.1 in /usr/local/lib/python3.6/dist-packages (from matplotlib->aguaclara) (2.4.6)\n",
            "Requirement already satisfied: cycler>=0.10 in /usr/local/lib/python3.6/dist-packages (from matplotlib->aguaclara) (0.10.0)\n",
            "Requirement already satisfied: pytz>=2017.2 in /usr/local/lib/python3.6/dist-packages (from pandas->aguaclara) (2018.9)\n",
            "Requirement already satisfied: six>=1.5 in /usr/local/lib/python3.6/dist-packages (from python-dateutil>=2.1->matplotlib->aguaclara) (1.12.0)\n",
            "Requirement already satisfied: setuptools in /usr/local/lib/python3.6/dist-packages (from kiwisolver>=1.0.1->matplotlib->aguaclara) (45.2.0)\n"
          ],
          "name": "stdout"
        }
      ]
    },
    {
      "cell_type": "markdown",
      "metadata": {
        "id": "NtF6hMF9EkG2",
        "colab_type": "text"
      },
      "source": [
        "### Code for Calculating Flow Rates"
      ]
    },
    {
      "cell_type": "code",
      "metadata": {
        "id": "CP_A9n8SDHf1",
        "colab_type": "code",
        "outputId": "c9880f9b-3a36-4e26-ebce-aa9a1fcb5889",
        "colab": {
          "base_uri": "https://localhost:8080/",
          "height": 121
        }
      },
      "source": [
        "# Recirculator:\n",
        "# velocity = 1 mm/s\n",
        "# total flow rate = velocity * cross sectional area\n",
        "r = 12.7 * u.mm\n",
        "vt = 1 * u.mm / u.s\n",
        "a = np.pi*(r**2)\n",
        "qt = vt * a \n",
        "\n",
        "# Humic acid:\n",
        "# stock flow rate HA = total flow rate HA * desired concentration HA / stock concentration HA\n",
        "cHAs = 0.25 * u.g / u.L\n",
        "cHAd = 0.05 * u.g / u.L\n",
        "qHAs = qt * cHAd / cHAs\n",
        "\n",
        "# Coagulant:\n",
        "# stock flow rate coag = total flow rate coag * desired concentration coag / stock concentration coag\n",
        "cCGs = 0.5 * u.g / u.L\n",
        "cCGd = 0.0016 * u.g / u.L\n",
        "qCGs = qt * cCGd / cCGs\n",
        "\n",
        "# Water:\n",
        "# total flow rate = stock flow rate HA + stock flow rate Coag + water flow rate\n",
        "qW = qt - qCGs - qHAs\n",
        "\n",
        "vHA = ac.vol_per_rev_3_stop('yellow-blue')\n",
        "sHA = qHAs.to(u.ml/u.s) / vHA\n",
        "\n",
        "vCG = ac.vol_per_rev_3_stop('yellow-blue')\n",
        "sCG = qCGs.to(u.ml/u.s) / vHA\n",
        "\n",
        "vW = ac.vol_per_rev_LS(17)\n",
        "sW = qW.to(u.ml/u.s) / vW\n",
        "\n",
        "print(\"Humic acid: \" + str(sHA.to(u.rpm)))\n",
        "print(\"Coagulant: \" + str(sCG.to(u.rpm)))\n",
        "print(\"Water: \" + str(sW.to(u.rpm)))\n",
        "#Numbers to put in ProCoDA\n",
        "#Note: 2 is the coefficient\n",
        "print(\"The HA pump speed in ProCoDA should be\", sHA.to(u.rev/u.sec)*2) \n",
        "print(\"The PACl pump speed in ProCoDA should be\", sCG.to(u.rev/u.sec)*2)\n",
        "print(\"The water pump speed in ProCoDA should be\", sW.to(u.rev/u.sec)*2)\n"
      ],
      "execution_count": 0,
      "outputs": [
        {
          "output_type": "stream",
          "text": [
            "Humic acid: 40.85 revolutions_per_minute\n",
            "Coagulant: 0.6536 revolutions_per_minute\n",
            "Water: 8.652 revolutions_per_minute\n",
            "The HA pump speed in ProCoDA should be 1.362 rev / second\n",
            "The PACl pump speed in ProCoDA should be 0.02179 rev / second\n",
            "The water pump speed in ProCoDA should be 0.2884 rev / second\n"
          ],
          "name": "stdout"
        }
      ]
    },
    {
      "cell_type": "markdown",
      "metadata": {
        "id": "-E9fsVXx2KJ4",
        "colab_type": "text"
      },
      "source": [
        "\n",
        "### Determining the Pump Speed for a Given Concentration\n",
        "The team used the following code to calculate the speed of the humic acid, coagulant, and water pumps to achieve the desired concentrations of humic acid and coagulant in the recirculator (going into the spectrophotometer). This code is based on the equation Q<sub>1</sub>C<sub>1</sub>=Q<sub>2</sub>C<sub>2</sub>, where Q<sub>1</sub> is the initial flow rate, C<sub>1</sub> is the initial concentration, Q<sub>2</sub> is the final flow rate, and C<sub>2</sub> is the final concentration. In order to use this script, the user must input the stock and desired humic acid concentration and the stock and desired coagulant concentration. The upflow velocity in the recirculator is assumed to be 1 mm/s through a 1 in. tube, while the 'yellow-blue' tubing is used for the HA/coag pumps and the ID 17 tubing is used for the water pump.\n",
        "\n",
        "### Variables\n",
        "$ vt $: upflow velocity in the recirculator\n",
        "\n",
        "$ r $: radius of the recirculator tube\n",
        "\n",
        "$ a $: cross sectional area of the recirculator tube\n",
        "\n",
        "$ qt $: flow rate through the recirculator\n",
        "\n",
        "$ cHAs $: stock humic acid concentration (into humic acid pump)\n",
        "\n",
        "$ cHAd $: desired humic acid concentration in the recirculator\n",
        "\n",
        "$ qHAs $: stock humic acid flow rate (through humic acid pump)\n",
        "\n",
        "$ cCGs $: stock coagulant concentration (into coagulant pump)\n",
        "\n",
        "$ cCGd $: desired coagulant concentration in the recirculator\n",
        "\n",
        "$ qCGs $: stock coagulant flow rate (through coagulant pump)\n",
        "\n",
        "$ qW $: flow rate of water in the recirculator\n",
        "\n",
        "$ vHA $: volume per revolution of the humic acid pump (dependent on pump tubing)\n",
        "\n",
        "$ sHA $: revolution per second (pump speed) of the humic acid pump\n",
        "\n",
        "$ vCG $: volume per revolution of the coagulant pump (dependent on pump tubing)\n",
        "\n",
        "$ sCG $: revolution per second (pump speed) of the coagulant pump\n",
        "\n",
        "$ vW $: volume per revolution of the water pump (dependent on pump tubing)\n",
        "\n",
        "$ sW $: revolution per second (pump speed) of the water pump\n",
        "\n",
        "```python\n",
        "# Recirculator:\n",
        "# velocity = 1 mm/s\n",
        "# total flow rate = velocity * cross sectional area\n",
        "r = 12.7 * u.mm\n",
        "vt = 1 * u.mm / u.s\n",
        "a = np.pi*(r**2)\n",
        "qt = vt * a \n",
        "\n",
        "# Humic acid:\n",
        "# stock flow rate HA = total flow rate HA * desired concentration HA / stock concentration HA\n",
        "cHAs = 1 * u.g / u.L\n",
        "cHAd = 0.015 * u.g / u.L\n",
        "qHAs = qt * cHAd / cHAs\n",
        "\n",
        "# Coagulant:\n",
        "# stock flow rate coag = total flow rate coag * desired concentration coag / stock concentration coag\n",
        "cCGs = 0.5 * u.g / u.L\n",
        "cCGd = 0.0015 * u.g / u.L\n",
        "qCGs = qt * cCGd / cCGs\n",
        "\n",
        "# Water:\n",
        "# total flow rate = stock flow rate HA + stock flow rate Coag + water flow rate\n",
        "qW = qt - qCGs - qHAs\n",
        "\n",
        "vHA = ac.vol_per_rev_3_stop('yellow-blue')\n",
        "sHA = qHAs.to(u.ml/u.s) / vHA\n",
        "\n",
        "vCG = ac.vol_per_rev_3_stop('yellow-blue')\n",
        "sCG = qCGs.to(u.ml/u.s) / vHA\n",
        "\n",
        "vW = ac.vol_per_rev_LS(17)\n",
        "sW = qW.to(u.ml/u.s) / vW\n",
        "\n",
        "print(\"Humic acid: \" + str(sHA.to(u.rpm)))\n",
        "print(\"Coagulant: \" + str(sCG.to(u.rpm)))\n",
        "print(\"Water: \" + str(sW.to(u.rpm)))\n",
        "```"
      ]
    },
    {
      "cell_type": "markdown",
      "metadata": {
        "id": "AHcoE5UNmoD4",
        "colab_type": "text"
      },
      "source": [
        ""
      ]
    }
  ]
}
